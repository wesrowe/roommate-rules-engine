{
 "cells": [
  {
   "cell_type": "markdown",
   "metadata": {},
   "source": [
    "# Matching Rules Engine #\n",
    "To be implementable as a serverless/Lambda function\n",
    "\n",
    "Expected inputs via json:\n",
    " - Rules object relating tags to one another (e.g., pair of tags with relationship like \"excluding\")\n",
    " - People objects with a list of tags for each (IDs rather than strings)\n",
    "\n",
    "First pass will be to adapt Wes's table-driven algorithm (where a subject like \"dog\" has two available columns, \"dog_has\" and \"dog_conflict\") to the tags model.\n",
    "I.e., there is no \"dog\" root with two related columns. There can be as many tags related to dogs as you want, with separate rules relating all tags."
   ]
  },
  {
   "cell_type": "markdown",
   "metadata": {},
   "source": [
    "### Sample People"
   ]
  },
  {
   "cell_type": "code",
   "execution_count": 1,
   "metadata": {},
   "outputs": [],
   "source": [
    "people_as_dicts = [\n",
    "    {\n",
    "        'tags': ['offender','dog-has','smoker'],\n",
    "        'id': 'X001'\n",
    "    },\n",
    "    {\n",
    "        'tags': ['offender','dog-has','smoker'],\n",
    "        'id': 'X002'\n",
    "    },\n",
    "    {\n",
    "        'tags': ['offender','dog-has','smoker'],\n",
    "        'id': 'X003'\n",
    "    },\n",
    "    {\n",
    "        'tags': ['dog-has','smoker'],\n",
    "        'id': 'X004'\n",
    "    },\n",
    "    {\n",
    "        'tags': ['dog-has','smoker'],\n",
    "        'id': 'X005'\n",
    "    },\n",
    "    {\n",
    "        'tags': ['dog-has','smoker'],\n",
    "        'id': 'X006'\n",
    "    },\n",
    "    {\n",
    "        'tags': ['dog-has','smoker'],\n",
    "        'id': 'X007'\n",
    "    },\n",
    "    {\n",
    "        'tags': ['dog-has','smoker'],\n",
    "        'id': 'X008'\n",
    "    },\n",
    "    {\n",
    "        'tags': ['dog-has','smoker'],\n",
    "        'id': 'X009'\n",
    "    },\n",
    "    {\n",
    "        'tags': ['dog-conflict','smoker'],\n",
    "        'id': 'X010'\n",
    "    },\n",
    "    {\n",
    "        'tags': ['dog-conflict','smoker'],\n",
    "        'id': 'X011'\n",
    "    },\n",
    "    {\n",
    "        'tags': ['dog-conflict','smoker'],\n",
    "        'id': 'X012'\n",
    "    },\n",
    "    {\n",
    "        'tags': ['dog-has','smoking-conflict'],\n",
    "        'id': 'X013'\n",
    "    },\n",
    "    {\n",
    "        'tags': ['dog-has','smoking-conflict'],\n",
    "        'id': 'X014'\n",
    "    },\n",
    "    {\n",
    "        'tags': ['dog-has','smoking-conflict'],\n",
    "        'id': 'X015'\n",
    "    },\n",
    "    {\n",
    "        'tags': ['dog-has','smoking-conflict'],\n",
    "        'id': 'X016'\n",
    "    },\n",
    "    {\n",
    "        'tags': ['dog-has','smoking-conflict'],\n",
    "        'id': 'X017'\n",
    "    },\n",
    "    {\n",
    "        'tags': ['dog-has'],\n",
    "        'id': 'X018'\n",
    "    },\n",
    "    {\n",
    "        'tags': ['dog-has'],\n",
    "        'id': 'X019'\n",
    "    },\n",
    "    {\n",
    "        'tags': ['dog-has'],\n",
    "        'id': 'X020'\n",
    "    }\n",
    "]"
   ]
  },
  {
   "cell_type": "markdown",
   "metadata": {},
   "source": [
    "### Sample Rules Data\n",
    "This list of tuples will later be loaded from a json input"
   ]
  },
  {
   "cell_type": "code",
   "execution_count": 2,
   "metadata": {},
   "outputs": [],
   "source": [
    "rules_by_label = [('dog-has', 'dog-conflict'),('smoker','smoking-conflict')]"
   ]
  },
  {
   "cell_type": "markdown",
   "metadata": {},
   "source": [
    "### Build list of relevant tags\n",
    "The point here is to only store data relevant to rules. We don't need a master list of all tags in the system (which will grow over time). So let's gather the tags that we have rules about."
   ]
  },
  {
   "cell_type": "code",
   "execution_count": 3,
   "metadata": {},
   "outputs": [
    {
     "data": {
      "text/plain": [
       "['dog-has', 'dog-conflict', 'smoker', 'smoking-conflict']"
      ]
     },
     "execution_count": 3,
     "metadata": {},
     "output_type": "execute_result"
    }
   ],
   "source": [
    "relevant_tags = []\n",
    "for rule in rules_by_label:\n",
    "    for i in range(len(rule)):\n",
    "        if rule[i] not in relevant_tags:\n",
    "            relevant_tags.append(rule[i])\n",
    "relevant_tags\n"
   ]
  },
  {
   "cell_type": "markdown",
   "metadata": {},
   "source": [
    "### Build people_as_lists where each person is a list of 0s and 1s corresponding to that index in the relevant_tags array"
   ]
  },
  {
   "cell_type": "code",
   "execution_count": 4,
   "metadata": {},
   "outputs": [
    {
     "data": {
      "text/plain": [
       "[[1, 0, 1, 0],\n",
       " [1, 0, 1, 0],\n",
       " [1, 0, 1, 0],\n",
       " [1, 0, 1, 0],\n",
       " [1, 0, 1, 0],\n",
       " [1, 0, 1, 0],\n",
       " [1, 0, 1, 0],\n",
       " [1, 0, 1, 0],\n",
       " [1, 0, 1, 0],\n",
       " [0, 1, 1, 0],\n",
       " [0, 1, 1, 0],\n",
       " [0, 1, 1, 0],\n",
       " [1, 0, 0, 1],\n",
       " [1, 0, 0, 1],\n",
       " [1, 0, 0, 1],\n",
       " [1, 0, 0, 1],\n",
       " [1, 0, 0, 1],\n",
       " [1, 0, 0, 0],\n",
       " [1, 0, 0, 0],\n",
       " [1, 0, 0, 0]]"
      ]
     },
     "execution_count": 4,
     "metadata": {},
     "output_type": "execute_result"
    }
   ],
   "source": [
    "people_as_lists = []\n",
    "\n",
    "for person in people_as_dicts:\n",
    "    peep_tags = []\n",
    "    for i in range(len(relevant_tags)):\n",
    "        if relevant_tags[i] in person['tags']:\n",
    "            peep_tags.append(1)\n",
    "        else:\n",
    "            peep_tags.append(0)\n",
    "    people_as_lists.append(peep_tags)\n",
    "\n",
    "people_as_lists"
   ]
  },
  {
   "cell_type": "markdown",
   "metadata": {},
   "source": [
    "### Build rules by index-reference to relevant_tags\n"
   ]
  },
  {
   "cell_type": "code",
   "execution_count": 5,
   "metadata": {},
   "outputs": [
    {
     "data": {
      "text/plain": [
       "[(0, 1), (2, 3)]"
      ]
     },
     "execution_count": 5,
     "metadata": {},
     "output_type": "execute_result"
    }
   ],
   "source": [
    "# loop through rules_by_label\n",
    "rules_by_index = [(relevant_tags.index(rule[0]), relevant_tags.index(rule[1])) for rule in rules_by_label]\n",
    "\n",
    "rules_by_index"
   ]
  },
  {
   "cell_type": "markdown",
   "metadata": {},
   "source": [
    "### Time to hard-group some folks!\n",
    "Without their IDs, how will I relate the person_as_list back to the people_as_dicts?\n",
    " - The index is the same in both list and dicts versions, so can get back to IDs that way when reporting groupings\n",
    "\n",
    "Note on output: groups will be lists of lists, with people known by their index in people_as_lists"
   ]
  },
  {
   "cell_type": "code",
   "execution_count": 31,
   "metadata": {},
   "outputs": [
    {
     "name": "stdout",
     "output_type": "stream",
     "text": [
      "peep 0 found group 0 [1, 0, 1, 0]\n",
      "groups [[0]]\n",
      "1 found_group [1, 0, 1, 0]\n",
      "2 found_group [1, 0, 1, 0]\n",
      "3 found_group [1, 0, 1, 0]\n",
      "4 found_group [1, 0, 1, 0]\n",
      "5 found_group [1, 0, 1, 0]\n",
      "6 found_group [1, 0, 1, 0]\n",
      "7 found_group [1, 0, 1, 0]\n",
      "8 found_group [1, 0, 1, 0]\n",
      "group conflict, rule: (0, 1)\n",
      "9 found_group [0, 1, 1, 0]\n",
      "groups [[0, 1, 2, 3, 4, 5, 6, 7, 8], [9]]\n",
      "group conflict, rule: (0, 1)\n",
      "10 found_group [0, 1, 1, 0]\n",
      "group conflict, rule: (0, 1)\n",
      "11 found_group [0, 1, 1, 0]\n",
      "group conflict, rule: (2, 3)\n",
      "group conflict, rule: (0, 1)\n",
      "12 found_group [1, 0, 0, 1]\n",
      "groups [[0, 1, 2, 3, 4, 5, 6, 7, 8], [9, 10, 11], [12]]\n",
      "group conflict, rule: (2, 3)\n",
      "group conflict, rule: (0, 1)\n",
      "13 found_group [1, 0, 0, 1]\n",
      "group conflict, rule: (2, 3)\n",
      "group conflict, rule: (0, 1)\n",
      "14 found_group [1, 0, 0, 1]\n",
      "group conflict, rule: (2, 3)\n",
      "group conflict, rule: (0, 1)\n",
      "15 found_group [1, 0, 0, 1]\n",
      "group conflict, rule: (2, 3)\n",
      "group conflict, rule: (0, 1)\n",
      "16 found_group [1, 0, 0, 1]\n",
      "17 found_group [1, 0, 0, 0]\n",
      "18 found_group [1, 0, 0, 0]\n",
      "19 found_group [1, 0, 0, 0]\n"
     ]
    },
    {
     "data": {
      "text/plain": [
       "[[0, 1, 2, 3, 4, 5, 6, 7, 8, 17, 18, 19], [9, 10, 11], [12, 13, 14, 15, 16]]"
      ]
     },
     "execution_count": 31,
     "metadata": {},
     "output_type": "execute_result"
    }
   ],
   "source": [
    "groups = []\n",
    "for peep_index, peep in enumerate(people_as_lists):  # loop thru people\n",
    "#     max_group = len(groups)\n",
    "    found_group = False\n",
    "    if len(groups) == 0:  # first time through, start Group 0\n",
    "        groups.append([peep_index])\n",
    "        print('peep 0 found group 0', peep)\n",
    "        print(\"groups\",groups)\n",
    "    else:\n",
    "        # loop thru groups, look for conflicts\n",
    "        for check_group in range(len(groups)):  # check_group is index of [group]\n",
    "            group = groups[check_group]\n",
    "            group_conflict = False\n",
    "            # loop through members of group\n",
    "            for j in range(len(group)):\n",
    "                groupie = people_as_lists[group[j]]  # groupie = \"person number j\" in group\n",
    "                # loop through rules in rules_by_index, check compatibility\n",
    "                for rule in rules_by_index:  # a tuple with two ints\n",
    "                    if ( (peep[rule[0]]*groupie[rule[1]]) + (peep[rule[1]]*groupie[rule[0]]) ):\n",
    "                        group_conflict = True\n",
    "                        print('group conflict, rule:',rule)\n",
    "                        break   # don't bother checking more rules\n",
    "                if group_conflict: \n",
    "                    break   # don't bother checking other group members, go to next group\n",
    "            if not group_conflict:  # peep found their group, don't check more groups\n",
    "                # add peep's index i to groups[check_group]\n",
    "                groups[check_group].append(peep_index)\n",
    "                found_group = True\n",
    "                break   \n",
    "        # if all groups failed...\n",
    "        print(peep_index, 'found_group', peep)\n",
    "        if not found_group:\n",
    "            #print(f'new group please for {people_as_dicts[peep_index]['id']}:', max_group + 1)\n",
    "            groups.append([peep_index])\n",
    "            print(\"groups\",groups)\n",
    "groups\n",
    "       \n",
    "     "
   ]
  },
  {
   "cell_type": "markdown",
   "metadata": {},
   "source": [
    "### Build groups_by_id to report groupings back out\n"
   ]
  },
  {
   "cell_type": "code",
   "execution_count": 44,
   "metadata": {},
   "outputs": [
    {
     "data": {
      "text/plain": [
       "{'group0': ['X001',\n",
       "  'X002',\n",
       "  'X003',\n",
       "  'X004',\n",
       "  'X005',\n",
       "  'X006',\n",
       "  'X007',\n",
       "  'X008',\n",
       "  'X009',\n",
       "  'X018',\n",
       "  'X019',\n",
       "  'X020'],\n",
       " 'group1': ['X001', 'X002', 'X003'],\n",
       " 'group2': ['X001', 'X002', 'X003', 'X004', 'X005']}"
      ]
     },
     "execution_count": 44,
     "metadata": {},
     "output_type": "execute_result"
    }
   ],
   "source": [
    "groups_by_id = {'group' + str(j): [people_as_dicts[group[i]]['id'] for i in range(len(groups[j]))] for j in range(len(groups))}\n",
    "groups_by_id"
   ]
  },
  {
   "cell_type": "code",
   "execution_count": null,
   "metadata": {},
   "outputs": [],
   "source": []
  }
 ],
 "metadata": {
  "kernelspec": {
   "display_name": "Python 3",
   "language": "python",
   "name": "python3"
  },
  "language_info": {
   "codemirror_mode": {
    "name": "ipython",
    "version": 3
   },
   "file_extension": ".py",
   "mimetype": "text/x-python",
   "name": "python",
   "nbconvert_exporter": "python",
   "pygments_lexer": "ipython3",
   "version": "3.7.3"
  }
 },
 "nbformat": 4,
 "nbformat_minor": 2
}
