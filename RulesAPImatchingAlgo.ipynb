{
 "cells": [
  {
   "cell_type": "markdown",
   "execution_count": null,
   "metadata": {},
   "outputs": [],
   "source": [
    "# Matching Rules Engine #\n",
    "To be implementable as a serverless/Lambda function\n",
    "\n",
    "Expected inputs via json:\n",
    " - Rules object relating tags to one another (e.g., pair of tags with relationship like \"excluding\")\n",
    " - People objects with a list of tags for each (IDs rather than strings)\n",
    "\n",
    "First pass will be to adapt Wes's table-driven algorithm (where a subject like \"dog\" has two available columns, \"dog_has\" and \"dog_conflict\") to the tags model.\n",
    "I.e., there is no \"dog\" root with two related columns. There can be as many tags related to dogs as you want, with separate rules relating all tags."
   ]
  },
  {
   "cell_type": "markdown",
   "execution_count": null,
   "metadata": {},
   "outputs": [],
   "source": [
    "### Sample People"
   ]
  },
  {
   "cell_type": "code",
   "execution_count": 23,
   "metadata": {},
   "outputs": [],
   "source": [
    "people_list = [\n",
    "    {\n",
    "        'tags': ['offender','dog-has','smoker'],\n",
    "        'id': 'X001'\n",
    "    },\n",
    "    {\n",
    "        'tags': ['offender','dog-has','smoker'],\n",
    "        'id': 'X002'\n",
    "    },\n",
    "    {\n",
    "        'tags': ['offender','dog-has','smoker'],\n",
    "        'id': 'X003'\n",
    "    },\n",
    "    {\n",
    "        'tags': ['dog-has','smoker'],\n",
    "        'id': 'X004'\n",
    "    },\n",
    "    {\n",
    "        'tags': ['dog-has','smoker'],\n",
    "        'id': 'X005'\n",
    "    },\n",
    "    {\n",
    "        'tags': ['dog-has','smoker'],\n",
    "        'id': 'X006'\n",
    "    },\n",
    "    {\n",
    "        'tags': ['dog-has','smoker'],\n",
    "        'id': 'X007'\n",
    "    },\n",
    "    {\n",
    "        'tags': ['dog-has','smoker'],\n",
    "        'id': 'X008'\n",
    "    },\n",
    "    {\n",
    "        'tags': ['dog-has','smoker'],\n",
    "        'id': 'X009'\n",
    "    },\n",
    "    {\n",
    "        'tags': ['dog-conflict','smoker'],\n",
    "        'id': 'X010'\n",
    "    },\n",
    "    {\n",
    "        'tags': ['dog-conflict','smoker'],\n",
    "        'id': 'X011'\n",
    "    },\n",
    "    {\n",
    "        'tags': ['dog-conflict','smoker'],\n",
    "        'id': 'X012'\n",
    "    },\n",
    "    {\n",
    "        'tags': ['dog-has','smoking-conflict'],\n",
    "        'id': 'X013'\n",
    "    },\n",
    "    {\n",
    "        'tags': ['dog-has','smoking-conflict'],\n",
    "        'id': 'X014'\n",
    "    },\n",
    "    {\n",
    "        'tags': ['dog-has','smoking-conflict'],\n",
    "        'id': 'X015'\n",
    "    },\n",
    "    {\n",
    "        'tags': ['dog-has','smoking-conflict'],\n",
    "        'id': 'X016'\n",
    "    },\n",
    "    {\n",
    "        'tags': ['dog-has','smoking-conflict'],\n",
    "        'id': 'X017'\n",
    "    },\n",
    "    {\n",
    "        'tags': ['dog-has'],\n",
    "        'id': 'X018'\n",
    "    },\n",
    "    {\n",
    "        'tags': ['dog-has'],\n",
    "        'id': 'X019'\n",
    "    },\n",
    "    {\n",
    "        'tags': ['dog-has'],\n",
    "        'id': 'X020'\n",
    "    }\n",
    "]"
   ]
  },
  {
   "cell_type": "markdown",
   "execution_count": null,
   "metadata": {},
   "outputs": [],
   "source": [
    "### Sample Rules Data\n",
    "This list of tuples will later be loaded from a json input"
   ]
  },
  {
   "cell_type": "code",
   "execution_count": 35,
   "metadata": {},
   "outputs": [],
   "source": [
    "rules_by_label = [('dog-has', 'dog-conflict'),('smoker','smoking-conflict')]"
   ]
  },
  {
   "cell_type": "markdown",
   "execution_count": null,
   "metadata": {},
   "outputs": [],
   "source": [
    "### Build list of relevant tags\n",
    "The point here is to only store data relevant to rules. We don't need a master list of all tags in the system (which will grow over time). So let's gather the tags that we have rules about."
   ]
  },
  {
   "cell_type": "code",
   "execution_count": 36,
   "metadata": {},
   "outputs": [
    {
     "data": {
      "text/plain": "['dog-has', 'dog-conflict', 'smoker', 'smoking-conflict']"
     },
     "execution_count": 36,
     "metadata": {},
     "output_type": "execute_result"
    }
   ],
   "source": [
    "relevant_tags = []\n",
    "for rule in rules_by_label:\n",
    "    for i in range(len(rule)):\n",
    "        if rule[i] not in relevant_tags:\n",
    "            relevant_tags.append(rule[i])\n",
    "relevant_tags\n"
   ]
  },
  {
   "cell_type": "markdown",
   "execution_count": null,
   "metadata": {},
   "outputs": [],
   "source": [
    "### Build people_as_lists where each person is a list of 0s and 1s corresponding to that index in the relevant_tags array"
   ]
  },
  {
   "cell_type": "code",
   "execution_count": 37,
   "metadata": {},
   "outputs": [
    {
     "data": {
      "text/plain": "[[1, 0, 1, 0],\n [1, 0, 1, 0],\n [1, 0, 1, 0],\n [1, 0, 1, 0],\n [1, 0, 1, 0],\n [1, 0, 1, 0],\n [1, 0, 1, 0],\n [1, 0, 1, 0],\n [1, 0, 1, 0],\n [0, 1, 1, 0],\n [0, 1, 1, 0],\n [0, 1, 1, 0],\n [1, 0, 0, 1],\n [1, 0, 0, 1],\n [1, 0, 0, 1],\n [1, 0, 0, 1],\n [1, 0, 0, 1],\n [1, 0, 0, 0],\n [1, 0, 0, 0],\n [1, 0, 0, 0]]"
     },
     "execution_count": 37,
     "metadata": {},
     "output_type": "execute_result"
    }
   ],
   "source": [
    "people_as_lists = []\n",
    "\n",
    "for person in people_list:\n",
    "    peep_tags = []\n",
    "    for i in range(len(relevant_tags)):\n",
    "        if relevant_tags[i] in person['tags']:\n",
    "            peep_tags.append(1)\n",
    "        else:\n",
    "            peep_tags.append(0)\n",
    "    people_as_lists.append(peep_tags)\n",
    "\n",
    "people_as_lists"
   ]
  },
  {
   "cell_type": "code",
   "execution_count": null,
   "metadata": {},
   "outputs": [],
   "source": []
  }
 ],
 "metadata": {},
 "nbformat": 4,
 "nbformat_minor": 2
}